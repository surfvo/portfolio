{
 "cells": [
  {
   "cell_type": "code",
   "execution_count": 40,
   "id": "f42158c9",
   "metadata": {},
   "outputs": [],
   "source": [
    "import pandas as pd\n",
    "import numpy as np\n",
    "\n",
    "from sklearn.model_selection import train_test_split\n",
    "from sklearn import svm\n",
    "\n",
    "from sklearn.tree import DecisionTreeClassifier\n",
    "from sklearn import tree\n",
    "from sklearn.ensemble import BaggingClassifier\n",
    "\n",
    "import eli5"
   ]
  },
  {
   "cell_type": "markdown",
   "id": "2759beec",
   "metadata": {},
   "source": [
    "# загружаем данные"
   ]
  },
  {
   "cell_type": "code",
   "execution_count": 6,
   "id": "399e6996",
   "metadata": {},
   "outputs": [],
   "source": [
    "data = pd.read_csv('titanic.csv')"
   ]
  },
  {
   "cell_type": "code",
   "execution_count": 7,
   "id": "61fd0beb",
   "metadata": {},
   "outputs": [
    {
     "data": {
      "text/html": [
       "<div>\n",
       "<style scoped>\n",
       "    .dataframe tbody tr th:only-of-type {\n",
       "        vertical-align: middle;\n",
       "    }\n",
       "\n",
       "    .dataframe tbody tr th {\n",
       "        vertical-align: top;\n",
       "    }\n",
       "\n",
       "    .dataframe thead th {\n",
       "        text-align: right;\n",
       "    }\n",
       "</style>\n",
       "<table border=\"1\" class=\"dataframe\">\n",
       "  <thead>\n",
       "    <tr style=\"text-align: right;\">\n",
       "      <th></th>\n",
       "      <th>PassengerId</th>\n",
       "      <th>Survived</th>\n",
       "      <th>Pclass</th>\n",
       "      <th>Name</th>\n",
       "      <th>Sex</th>\n",
       "      <th>Age</th>\n",
       "      <th>SibSp</th>\n",
       "      <th>Parch</th>\n",
       "      <th>Ticket</th>\n",
       "      <th>Fare</th>\n",
       "      <th>Cabin</th>\n",
       "      <th>Embarked</th>\n",
       "    </tr>\n",
       "  </thead>\n",
       "  <tbody>\n",
       "    <tr>\n",
       "      <th>0</th>\n",
       "      <td>1</td>\n",
       "      <td>0</td>\n",
       "      <td>3</td>\n",
       "      <td>Braund, Mr. Owen Harris</td>\n",
       "      <td>male</td>\n",
       "      <td>22.0</td>\n",
       "      <td>1</td>\n",
       "      <td>0</td>\n",
       "      <td>A/5 21171</td>\n",
       "      <td>7.2500</td>\n",
       "      <td>NaN</td>\n",
       "      <td>S</td>\n",
       "    </tr>\n",
       "    <tr>\n",
       "      <th>1</th>\n",
       "      <td>2</td>\n",
       "      <td>1</td>\n",
       "      <td>1</td>\n",
       "      <td>Cumings, Mrs. John Bradley (Florence Briggs Th...</td>\n",
       "      <td>female</td>\n",
       "      <td>38.0</td>\n",
       "      <td>1</td>\n",
       "      <td>0</td>\n",
       "      <td>PC 17599</td>\n",
       "      <td>71.2833</td>\n",
       "      <td>C85</td>\n",
       "      <td>C</td>\n",
       "    </tr>\n",
       "    <tr>\n",
       "      <th>2</th>\n",
       "      <td>3</td>\n",
       "      <td>1</td>\n",
       "      <td>3</td>\n",
       "      <td>Heikkinen, Miss. Laina</td>\n",
       "      <td>female</td>\n",
       "      <td>26.0</td>\n",
       "      <td>0</td>\n",
       "      <td>0</td>\n",
       "      <td>STON/O2. 3101282</td>\n",
       "      <td>7.9250</td>\n",
       "      <td>NaN</td>\n",
       "      <td>S</td>\n",
       "    </tr>\n",
       "    <tr>\n",
       "      <th>3</th>\n",
       "      <td>4</td>\n",
       "      <td>1</td>\n",
       "      <td>1</td>\n",
       "      <td>Futrelle, Mrs. Jacques Heath (Lily May Peel)</td>\n",
       "      <td>female</td>\n",
       "      <td>35.0</td>\n",
       "      <td>1</td>\n",
       "      <td>0</td>\n",
       "      <td>113803</td>\n",
       "      <td>53.1000</td>\n",
       "      <td>C123</td>\n",
       "      <td>S</td>\n",
       "    </tr>\n",
       "    <tr>\n",
       "      <th>4</th>\n",
       "      <td>5</td>\n",
       "      <td>0</td>\n",
       "      <td>3</td>\n",
       "      <td>Allen, Mr. William Henry</td>\n",
       "      <td>male</td>\n",
       "      <td>35.0</td>\n",
       "      <td>0</td>\n",
       "      <td>0</td>\n",
       "      <td>373450</td>\n",
       "      <td>8.0500</td>\n",
       "      <td>NaN</td>\n",
       "      <td>S</td>\n",
       "    </tr>\n",
       "    <tr>\n",
       "      <th>...</th>\n",
       "      <td>...</td>\n",
       "      <td>...</td>\n",
       "      <td>...</td>\n",
       "      <td>...</td>\n",
       "      <td>...</td>\n",
       "      <td>...</td>\n",
       "      <td>...</td>\n",
       "      <td>...</td>\n",
       "      <td>...</td>\n",
       "      <td>...</td>\n",
       "      <td>...</td>\n",
       "      <td>...</td>\n",
       "    </tr>\n",
       "    <tr>\n",
       "      <th>886</th>\n",
       "      <td>887</td>\n",
       "      <td>0</td>\n",
       "      <td>2</td>\n",
       "      <td>Montvila, Rev. Juozas</td>\n",
       "      <td>male</td>\n",
       "      <td>27.0</td>\n",
       "      <td>0</td>\n",
       "      <td>0</td>\n",
       "      <td>211536</td>\n",
       "      <td>13.0000</td>\n",
       "      <td>NaN</td>\n",
       "      <td>S</td>\n",
       "    </tr>\n",
       "    <tr>\n",
       "      <th>887</th>\n",
       "      <td>888</td>\n",
       "      <td>1</td>\n",
       "      <td>1</td>\n",
       "      <td>Graham, Miss. Margaret Edith</td>\n",
       "      <td>female</td>\n",
       "      <td>19.0</td>\n",
       "      <td>0</td>\n",
       "      <td>0</td>\n",
       "      <td>112053</td>\n",
       "      <td>30.0000</td>\n",
       "      <td>B42</td>\n",
       "      <td>S</td>\n",
       "    </tr>\n",
       "    <tr>\n",
       "      <th>888</th>\n",
       "      <td>889</td>\n",
       "      <td>0</td>\n",
       "      <td>3</td>\n",
       "      <td>Johnston, Miss. Catherine Helen \"Carrie\"</td>\n",
       "      <td>female</td>\n",
       "      <td>NaN</td>\n",
       "      <td>1</td>\n",
       "      <td>2</td>\n",
       "      <td>W./C. 6607</td>\n",
       "      <td>23.4500</td>\n",
       "      <td>NaN</td>\n",
       "      <td>S</td>\n",
       "    </tr>\n",
       "    <tr>\n",
       "      <th>889</th>\n",
       "      <td>890</td>\n",
       "      <td>1</td>\n",
       "      <td>1</td>\n",
       "      <td>Behr, Mr. Karl Howell</td>\n",
       "      <td>male</td>\n",
       "      <td>26.0</td>\n",
       "      <td>0</td>\n",
       "      <td>0</td>\n",
       "      <td>111369</td>\n",
       "      <td>30.0000</td>\n",
       "      <td>C148</td>\n",
       "      <td>C</td>\n",
       "    </tr>\n",
       "    <tr>\n",
       "      <th>890</th>\n",
       "      <td>891</td>\n",
       "      <td>0</td>\n",
       "      <td>3</td>\n",
       "      <td>Dooley, Mr. Patrick</td>\n",
       "      <td>male</td>\n",
       "      <td>32.0</td>\n",
       "      <td>0</td>\n",
       "      <td>0</td>\n",
       "      <td>370376</td>\n",
       "      <td>7.7500</td>\n",
       "      <td>NaN</td>\n",
       "      <td>Q</td>\n",
       "    </tr>\n",
       "  </tbody>\n",
       "</table>\n",
       "<p>891 rows × 12 columns</p>\n",
       "</div>"
      ],
      "text/plain": [
       "     PassengerId  Survived  Pclass  \\\n",
       "0              1         0       3   \n",
       "1              2         1       1   \n",
       "2              3         1       3   \n",
       "3              4         1       1   \n",
       "4              5         0       3   \n",
       "..           ...       ...     ...   \n",
       "886          887         0       2   \n",
       "887          888         1       1   \n",
       "888          889         0       3   \n",
       "889          890         1       1   \n",
       "890          891         0       3   \n",
       "\n",
       "                                                  Name     Sex   Age  SibSp  \\\n",
       "0                              Braund, Mr. Owen Harris    male  22.0      1   \n",
       "1    Cumings, Mrs. John Bradley (Florence Briggs Th...  female  38.0      1   \n",
       "2                               Heikkinen, Miss. Laina  female  26.0      0   \n",
       "3         Futrelle, Mrs. Jacques Heath (Lily May Peel)  female  35.0      1   \n",
       "4                             Allen, Mr. William Henry    male  35.0      0   \n",
       "..                                                 ...     ...   ...    ...   \n",
       "886                              Montvila, Rev. Juozas    male  27.0      0   \n",
       "887                       Graham, Miss. Margaret Edith  female  19.0      0   \n",
       "888           Johnston, Miss. Catherine Helen \"Carrie\"  female   NaN      1   \n",
       "889                              Behr, Mr. Karl Howell    male  26.0      0   \n",
       "890                                Dooley, Mr. Patrick    male  32.0      0   \n",
       "\n",
       "     Parch            Ticket     Fare Cabin Embarked  \n",
       "0        0         A/5 21171   7.2500   NaN        S  \n",
       "1        0          PC 17599  71.2833   C85        C  \n",
       "2        0  STON/O2. 3101282   7.9250   NaN        S  \n",
       "3        0            113803  53.1000  C123        S  \n",
       "4        0            373450   8.0500   NaN        S  \n",
       "..     ...               ...      ...   ...      ...  \n",
       "886      0            211536  13.0000   NaN        S  \n",
       "887      0            112053  30.0000   B42        S  \n",
       "888      2        W./C. 6607  23.4500   NaN        S  \n",
       "889      0            111369  30.0000  C148        C  \n",
       "890      0            370376   7.7500   NaN        Q  \n",
       "\n",
       "[891 rows x 12 columns]"
      ]
     },
     "execution_count": 7,
     "metadata": {},
     "output_type": "execute_result"
    }
   ],
   "source": [
    "data"
   ]
  },
  {
   "cell_type": "markdown",
   "id": "d4715be1",
   "metadata": {},
   "source": [
    "# Предварительная работа с данными "
   ]
  },
  {
   "cell_type": "code",
   "execution_count": 8,
   "id": "de8d3262",
   "metadata": {},
   "outputs": [],
   "source": [
    "columns_target = ['Survived'] #целевая колонка"
   ]
  },
  {
   "cell_type": "code",
   "execution_count": 9,
   "id": "2e0b448c",
   "metadata": {},
   "outputs": [],
   "source": [
    "columns_train = ['Pclass', 'Sex', 'Age', 'Fare']"
   ]
  },
  {
   "cell_type": "code",
   "execution_count": 10,
   "id": "d190c8c0",
   "metadata": {
    "scrolled": true
   },
   "outputs": [],
   "source": [
    "Y = data[columns_target]\n",
    "X = data[columns_train]"
   ]
  },
  {
   "cell_type": "markdown",
   "id": "898553d4",
   "metadata": {},
   "source": [
    "# Проверим естть ли пустые ячейки"
   ]
  },
  {
   "cell_type": "code",
   "execution_count": 11,
   "id": "e747d798",
   "metadata": {},
   "outputs": [
    {
     "name": "stdout",
     "output_type": "stream",
     "text": [
      "0 0 0 177\n"
     ]
    }
   ],
   "source": [
    "print(X['Sex'].isnull().sum(), X['Pclass'].isnull().sum(), X['Fare'].isnull().sum(), X['Age'].isnull().sum()) "
   ]
  },
  {
   "cell_type": "markdown",
   "id": "7fa247aa",
   "metadata": {},
   "source": [
    "# Заполняем пустые значения медианным значением"
   ]
  },
  {
   "cell_type": "code",
   "execution_count": 12,
   "id": "e186ac62",
   "metadata": {},
   "outputs": [
    {
     "name": "stderr",
     "output_type": "stream",
     "text": [
      "/var/folders/9y/1_m0916n3f926sbs3ljhhd300000gn/T/ipykernel_32898/1341152632.py:1: SettingWithCopyWarning: \n",
      "A value is trying to be set on a copy of a slice from a DataFrame.\n",
      "Try using .loc[row_indexer,col_indexer] = value instead\n",
      "\n",
      "See the caveats in the documentation: https://pandas.pydata.org/pandas-docs/stable/user_guide/indexing.html#returning-a-view-versus-a-copy\n",
      "  X['Age'] = X['Age'].fillna(X['Age'].median())\n"
     ]
    }
   ],
   "source": [
    "X['Age'] = X['Age'].fillna(X['Age'].median())"
   ]
  },
  {
   "cell_type": "code",
   "execution_count": 266,
   "id": "20f7cb7e",
   "metadata": {},
   "outputs": [
    {
     "data": {
      "text/plain": [
       "850     4.0\n",
       "851    74.0\n",
       "852     9.0\n",
       "853    16.0\n",
       "854    44.0\n",
       "855    18.0\n",
       "856    45.0\n",
       "857    51.0\n",
       "858    24.0\n",
       "859    28.0\n",
       "860    41.0\n",
       "861    21.0\n",
       "862    48.0\n",
       "863    28.0\n",
       "864    24.0\n",
       "865    42.0\n",
       "866    27.0\n",
       "867    31.0\n",
       "868    28.0\n",
       "869     4.0\n",
       "870    26.0\n",
       "871    47.0\n",
       "872    33.0\n",
       "873    47.0\n",
       "874    28.0\n",
       "875    15.0\n",
       "876    20.0\n",
       "877    19.0\n",
       "878    28.0\n",
       "879    56.0\n",
       "880    25.0\n",
       "881    33.0\n",
       "882    22.0\n",
       "883    28.0\n",
       "884    25.0\n",
       "885    39.0\n",
       "886    27.0\n",
       "887    19.0\n",
       "888    28.0\n",
       "889    26.0\n",
       "890    32.0\n",
       "Name: Age, dtype: float64"
      ]
     },
     "execution_count": 266,
     "metadata": {},
     "output_type": "execute_result"
    }
   ],
   "source": [
    "X['Age'].loc[850:900]"
   ]
  },
  {
   "cell_type": "code",
   "execution_count": 13,
   "id": "494428a0",
   "metadata": {},
   "outputs": [
    {
     "data": {
      "text/plain": [
       "0"
      ]
     },
     "execution_count": 13,
     "metadata": {},
     "output_type": "execute_result"
    }
   ],
   "source": [
    "X['Age'].isnull().sum()"
   ]
  },
  {
   "cell_type": "markdown",
   "id": "004933ea",
   "metadata": {},
   "source": [
    "# Заменяем male и famale в 0 и 1"
   ]
  },
  {
   "cell_type": "code",
   "execution_count": 14,
   "id": "2321273c",
   "metadata": {},
   "outputs": [],
   "source": [
    "d={'male':0,'female':1}"
   ]
  },
  {
   "cell_type": "code",
   "execution_count": 15,
   "id": "49e38a7b",
   "metadata": {},
   "outputs": [
    {
     "name": "stderr",
     "output_type": "stream",
     "text": [
      "/var/folders/9y/1_m0916n3f926sbs3ljhhd300000gn/T/ipykernel_32898/2841940904.py:1: SettingWithCopyWarning: \n",
      "A value is trying to be set on a copy of a slice from a DataFrame.\n",
      "Try using .loc[row_indexer,col_indexer] = value instead\n",
      "\n",
      "See the caveats in the documentation: https://pandas.pydata.org/pandas-docs/stable/user_guide/indexing.html#returning-a-view-versus-a-copy\n",
      "  X['Sex'] = X['Sex'].apply(lambda x:d[x])\n"
     ]
    }
   ],
   "source": [
    "X['Sex'] = X['Sex'].apply(lambda x:d[x])"
   ]
  },
  {
   "cell_type": "code",
   "execution_count": 16,
   "id": "cbdecdca",
   "metadata": {},
   "outputs": [
    {
     "data": {
      "text/plain": [
       "0    0\n",
       "1    1\n",
       "2    1\n",
       "3    1\n",
       "4    0\n",
       "Name: Sex, dtype: int64"
      ]
     },
     "execution_count": 16,
     "metadata": {},
     "output_type": "execute_result"
    }
   ],
   "source": [
    "X['Sex'].head(5)"
   ]
  },
  {
   "cell_type": "markdown",
   "id": "fed5ccd2",
   "metadata": {},
   "source": [
    "# Разделяем нашу выборку на тестовую и тренировочную "
   ]
  },
  {
   "cell_type": "code",
   "execution_count": 51,
   "id": "a6ec9ede",
   "metadata": {},
   "outputs": [],
   "source": [
    "X_train, X_test, Y_train, Y_test = train_test_split(X,Y,test_size=0.1,random_state=42)"
   ]
  },
  {
   "cell_type": "code",
   "execution_count": 53,
   "id": "a6a6be33",
   "metadata": {},
   "outputs": [],
   "source": [
    "clf = tree.DecisionTreeClassifier (max_depth=5, random_state= 21) #"
   ]
  },
  {
   "cell_type": "code",
   "execution_count": 55,
   "id": "53e5a147",
   "metadata": {},
   "outputs": [],
   "source": [
    "bagging = BaggingClassifier(base_estimator=clf, n_estimators=100)"
   ]
  },
  {
   "cell_type": "code",
   "execution_count": 56,
   "id": "67dd487b",
   "metadata": {},
   "outputs": [
    {
     "name": "stderr",
     "output_type": "stream",
     "text": [
      "/Users/vladimirsemenov/anaconda3/lib/python3.10/site-packages/sklearn/ensemble/_bagging.py:802: DataConversionWarning: A column-vector y was passed when a 1d array was expected. Please change the shape of y to (n_samples, ), for example using ravel().\n",
      "  y = column_or_1d(y, warn=True)\n",
      "/Users/vladimirsemenov/anaconda3/lib/python3.10/site-packages/sklearn/ensemble/_base.py:166: FutureWarning: `base_estimator` was renamed to `estimator` in version 1.2 and will be removed in 1.4.\n",
      "  warnings.warn(\n"
     ]
    },
    {
     "data": {
      "text/html": [
       "<style>#sk-container-id-8 {color: black;background-color: white;}#sk-container-id-8 pre{padding: 0;}#sk-container-id-8 div.sk-toggleable {background-color: white;}#sk-container-id-8 label.sk-toggleable__label {cursor: pointer;display: block;width: 100%;margin-bottom: 0;padding: 0.3em;box-sizing: border-box;text-align: center;}#sk-container-id-8 label.sk-toggleable__label-arrow:before {content: \"▸\";float: left;margin-right: 0.25em;color: #696969;}#sk-container-id-8 label.sk-toggleable__label-arrow:hover:before {color: black;}#sk-container-id-8 div.sk-estimator:hover label.sk-toggleable__label-arrow:before {color: black;}#sk-container-id-8 div.sk-toggleable__content {max-height: 0;max-width: 0;overflow: hidden;text-align: left;background-color: #f0f8ff;}#sk-container-id-8 div.sk-toggleable__content pre {margin: 0.2em;color: black;border-radius: 0.25em;background-color: #f0f8ff;}#sk-container-id-8 input.sk-toggleable__control:checked~div.sk-toggleable__content {max-height: 200px;max-width: 100%;overflow: auto;}#sk-container-id-8 input.sk-toggleable__control:checked~label.sk-toggleable__label-arrow:before {content: \"▾\";}#sk-container-id-8 div.sk-estimator input.sk-toggleable__control:checked~label.sk-toggleable__label {background-color: #d4ebff;}#sk-container-id-8 div.sk-label input.sk-toggleable__control:checked~label.sk-toggleable__label {background-color: #d4ebff;}#sk-container-id-8 input.sk-hidden--visually {border: 0;clip: rect(1px 1px 1px 1px);clip: rect(1px, 1px, 1px, 1px);height: 1px;margin: -1px;overflow: hidden;padding: 0;position: absolute;width: 1px;}#sk-container-id-8 div.sk-estimator {font-family: monospace;background-color: #f0f8ff;border: 1px dotted black;border-radius: 0.25em;box-sizing: border-box;margin-bottom: 0.5em;}#sk-container-id-8 div.sk-estimator:hover {background-color: #d4ebff;}#sk-container-id-8 div.sk-parallel-item::after {content: \"\";width: 100%;border-bottom: 1px solid gray;flex-grow: 1;}#sk-container-id-8 div.sk-label:hover label.sk-toggleable__label {background-color: #d4ebff;}#sk-container-id-8 div.sk-serial::before {content: \"\";position: absolute;border-left: 1px solid gray;box-sizing: border-box;top: 0;bottom: 0;left: 50%;z-index: 0;}#sk-container-id-8 div.sk-serial {display: flex;flex-direction: column;align-items: center;background-color: white;padding-right: 0.2em;padding-left: 0.2em;position: relative;}#sk-container-id-8 div.sk-item {position: relative;z-index: 1;}#sk-container-id-8 div.sk-parallel {display: flex;align-items: stretch;justify-content: center;background-color: white;position: relative;}#sk-container-id-8 div.sk-item::before, #sk-container-id-8 div.sk-parallel-item::before {content: \"\";position: absolute;border-left: 1px solid gray;box-sizing: border-box;top: 0;bottom: 0;left: 50%;z-index: -1;}#sk-container-id-8 div.sk-parallel-item {display: flex;flex-direction: column;z-index: 1;position: relative;background-color: white;}#sk-container-id-8 div.sk-parallel-item:first-child::after {align-self: flex-end;width: 50%;}#sk-container-id-8 div.sk-parallel-item:last-child::after {align-self: flex-start;width: 50%;}#sk-container-id-8 div.sk-parallel-item:only-child::after {width: 0;}#sk-container-id-8 div.sk-dashed-wrapped {border: 1px dashed gray;margin: 0 0.4em 0.5em 0.4em;box-sizing: border-box;padding-bottom: 0.4em;background-color: white;}#sk-container-id-8 div.sk-label label {font-family: monospace;font-weight: bold;display: inline-block;line-height: 1.2em;}#sk-container-id-8 div.sk-label-container {text-align: center;}#sk-container-id-8 div.sk-container {/* jupyter's `normalize.less` sets `[hidden] { display: none; }` but bootstrap.min.css set `[hidden] { display: none !important; }` so we also need the `!important` here to be able to override the default hidden behavior on the sphinx rendered scikit-learn.org. See: https://github.com/scikit-learn/scikit-learn/issues/21755 */display: inline-block !important;position: relative;}#sk-container-id-8 div.sk-text-repr-fallback {display: none;}</style><div id=\"sk-container-id-8\" class=\"sk-top-container\"><div class=\"sk-text-repr-fallback\"><pre>BaggingClassifier(base_estimator=DecisionTreeClassifier(max_depth=5,\n",
       "                                                        random_state=21),\n",
       "                  n_estimators=100)</pre><b>In a Jupyter environment, please rerun this cell to show the HTML representation or trust the notebook. <br />On GitHub, the HTML representation is unable to render, please try loading this page with nbviewer.org.</b></div><div class=\"sk-container\" hidden><div class=\"sk-item sk-dashed-wrapped\"><div class=\"sk-label-container\"><div class=\"sk-label sk-toggleable\"><input class=\"sk-toggleable__control sk-hidden--visually\" id=\"sk-estimator-id-14\" type=\"checkbox\" ><label for=\"sk-estimator-id-14\" class=\"sk-toggleable__label sk-toggleable__label-arrow\">BaggingClassifier</label><div class=\"sk-toggleable__content\"><pre>BaggingClassifier(base_estimator=DecisionTreeClassifier(max_depth=5,\n",
       "                                                        random_state=21),\n",
       "                  n_estimators=100)</pre></div></div></div><div class=\"sk-parallel\"><div class=\"sk-parallel-item\"><div class=\"sk-item\"><div class=\"sk-label-container\"><div class=\"sk-label sk-toggleable\"><input class=\"sk-toggleable__control sk-hidden--visually\" id=\"sk-estimator-id-15\" type=\"checkbox\" ><label for=\"sk-estimator-id-15\" class=\"sk-toggleable__label sk-toggleable__label-arrow\">base_estimator: DecisionTreeClassifier</label><div class=\"sk-toggleable__content\"><pre>DecisionTreeClassifier(max_depth=5, random_state=21)</pre></div></div></div><div class=\"sk-serial\"><div class=\"sk-item\"><div class=\"sk-estimator sk-toggleable\"><input class=\"sk-toggleable__control sk-hidden--visually\" id=\"sk-estimator-id-16\" type=\"checkbox\" ><label for=\"sk-estimator-id-16\" class=\"sk-toggleable__label sk-toggleable__label-arrow\">DecisionTreeClassifier</label><div class=\"sk-toggleable__content\"><pre>DecisionTreeClassifier(max_depth=5, random_state=21)</pre></div></div></div></div></div></div></div></div></div></div>"
      ],
      "text/plain": [
       "BaggingClassifier(base_estimator=DecisionTreeClassifier(max_depth=5,\n",
       "                                                        random_state=21),\n",
       "                  n_estimators=100)"
      ]
     },
     "execution_count": 56,
     "metadata": {},
     "output_type": "execute_result"
    }
   ],
   "source": [
    "bagging.fit(X_train,Y_train)"
   ]
  },
  {
   "cell_type": "code",
   "execution_count": 57,
   "id": "a78393c0",
   "metadata": {},
   "outputs": [
    {
     "data": {
      "text/plain": [
       "0.8333333333333334"
      ]
     },
     "execution_count": 57,
     "metadata": {},
     "output_type": "execute_result"
    }
   ],
   "source": [
    "bagging.score(X_test,Y_test)"
   ]
  },
  {
   "cell_type": "code",
   "execution_count": null,
   "id": "fa7317e5",
   "metadata": {},
   "outputs": [],
   "source": []
  },
  {
   "cell_type": "code",
   "execution_count": null,
   "id": "72d79039",
   "metadata": {},
   "outputs": [],
   "source": []
  },
  {
   "cell_type": "code",
   "execution_count": null,
   "id": "274bd7b6",
   "metadata": {},
   "outputs": [],
   "source": []
  },
  {
   "cell_type": "code",
   "execution_count": 58,
   "id": "dfa7e8fb",
   "metadata": {},
   "outputs": [
    {
     "data": {
      "text/html": [
       "<style>#sk-container-id-9 {color: black;background-color: white;}#sk-container-id-9 pre{padding: 0;}#sk-container-id-9 div.sk-toggleable {background-color: white;}#sk-container-id-9 label.sk-toggleable__label {cursor: pointer;display: block;width: 100%;margin-bottom: 0;padding: 0.3em;box-sizing: border-box;text-align: center;}#sk-container-id-9 label.sk-toggleable__label-arrow:before {content: \"▸\";float: left;margin-right: 0.25em;color: #696969;}#sk-container-id-9 label.sk-toggleable__label-arrow:hover:before {color: black;}#sk-container-id-9 div.sk-estimator:hover label.sk-toggleable__label-arrow:before {color: black;}#sk-container-id-9 div.sk-toggleable__content {max-height: 0;max-width: 0;overflow: hidden;text-align: left;background-color: #f0f8ff;}#sk-container-id-9 div.sk-toggleable__content pre {margin: 0.2em;color: black;border-radius: 0.25em;background-color: #f0f8ff;}#sk-container-id-9 input.sk-toggleable__control:checked~div.sk-toggleable__content {max-height: 200px;max-width: 100%;overflow: auto;}#sk-container-id-9 input.sk-toggleable__control:checked~label.sk-toggleable__label-arrow:before {content: \"▾\";}#sk-container-id-9 div.sk-estimator input.sk-toggleable__control:checked~label.sk-toggleable__label {background-color: #d4ebff;}#sk-container-id-9 div.sk-label input.sk-toggleable__control:checked~label.sk-toggleable__label {background-color: #d4ebff;}#sk-container-id-9 input.sk-hidden--visually {border: 0;clip: rect(1px 1px 1px 1px);clip: rect(1px, 1px, 1px, 1px);height: 1px;margin: -1px;overflow: hidden;padding: 0;position: absolute;width: 1px;}#sk-container-id-9 div.sk-estimator {font-family: monospace;background-color: #f0f8ff;border: 1px dotted black;border-radius: 0.25em;box-sizing: border-box;margin-bottom: 0.5em;}#sk-container-id-9 div.sk-estimator:hover {background-color: #d4ebff;}#sk-container-id-9 div.sk-parallel-item::after {content: \"\";width: 100%;border-bottom: 1px solid gray;flex-grow: 1;}#sk-container-id-9 div.sk-label:hover label.sk-toggleable__label {background-color: #d4ebff;}#sk-container-id-9 div.sk-serial::before {content: \"\";position: absolute;border-left: 1px solid gray;box-sizing: border-box;top: 0;bottom: 0;left: 50%;z-index: 0;}#sk-container-id-9 div.sk-serial {display: flex;flex-direction: column;align-items: center;background-color: white;padding-right: 0.2em;padding-left: 0.2em;position: relative;}#sk-container-id-9 div.sk-item {position: relative;z-index: 1;}#sk-container-id-9 div.sk-parallel {display: flex;align-items: stretch;justify-content: center;background-color: white;position: relative;}#sk-container-id-9 div.sk-item::before, #sk-container-id-9 div.sk-parallel-item::before {content: \"\";position: absolute;border-left: 1px solid gray;box-sizing: border-box;top: 0;bottom: 0;left: 50%;z-index: -1;}#sk-container-id-9 div.sk-parallel-item {display: flex;flex-direction: column;z-index: 1;position: relative;background-color: white;}#sk-container-id-9 div.sk-parallel-item:first-child::after {align-self: flex-end;width: 50%;}#sk-container-id-9 div.sk-parallel-item:last-child::after {align-self: flex-start;width: 50%;}#sk-container-id-9 div.sk-parallel-item:only-child::after {width: 0;}#sk-container-id-9 div.sk-dashed-wrapped {border: 1px dashed gray;margin: 0 0.4em 0.5em 0.4em;box-sizing: border-box;padding-bottom: 0.4em;background-color: white;}#sk-container-id-9 div.sk-label label {font-family: monospace;font-weight: bold;display: inline-block;line-height: 1.2em;}#sk-container-id-9 div.sk-label-container {text-align: center;}#sk-container-id-9 div.sk-container {/* jupyter's `normalize.less` sets `[hidden] { display: none; }` but bootstrap.min.css set `[hidden] { display: none !important; }` so we also need the `!important` here to be able to override the default hidden behavior on the sphinx rendered scikit-learn.org. See: https://github.com/scikit-learn/scikit-learn/issues/21755 */display: inline-block !important;position: relative;}#sk-container-id-9 div.sk-text-repr-fallback {display: none;}</style><div id=\"sk-container-id-9\" class=\"sk-top-container\"><div class=\"sk-text-repr-fallback\"><pre>DecisionTreeClassifier(max_depth=5, random_state=21)</pre><b>In a Jupyter environment, please rerun this cell to show the HTML representation or trust the notebook. <br />On GitHub, the HTML representation is unable to render, please try loading this page with nbviewer.org.</b></div><div class=\"sk-container\" hidden><div class=\"sk-item\"><div class=\"sk-estimator sk-toggleable\"><input class=\"sk-toggleable__control sk-hidden--visually\" id=\"sk-estimator-id-17\" type=\"checkbox\" checked><label for=\"sk-estimator-id-17\" class=\"sk-toggleable__label sk-toggleable__label-arrow\">DecisionTreeClassifier</label><div class=\"sk-toggleable__content\"><pre>DecisionTreeClassifier(max_depth=5, random_state=21)</pre></div></div></div></div></div>"
      ],
      "text/plain": [
       "DecisionTreeClassifier(max_depth=5, random_state=21)"
      ]
     },
     "execution_count": 58,
     "metadata": {},
     "output_type": "execute_result"
    }
   ],
   "source": [
    "clf.fit(X_train,Y_train)"
   ]
  },
  {
   "cell_type": "code",
   "execution_count": 59,
   "id": "18a8e1c1",
   "metadata": {},
   "outputs": [
    {
     "data": {
      "text/plain": [
       "0.7666666666666667"
      ]
     },
     "execution_count": 59,
     "metadata": {},
     "output_type": "execute_result"
    }
   ],
   "source": [
    "clf.score(X_test,Y_test)"
   ]
  },
  {
   "cell_type": "code",
   "execution_count": 39,
   "id": "d3a5cbc1",
   "metadata": {},
   "outputs": [
    {
     "data": {
      "text/html": [
       "\n",
       "    <style>\n",
       "    table.eli5-weights tr:hover {\n",
       "        filter: brightness(85%);\n",
       "    }\n",
       "</style>\n",
       "\n",
       "\n",
       "\n",
       "    \n",
       "\n",
       "    \n",
       "\n",
       "    \n",
       "\n",
       "    \n",
       "\n",
       "    \n",
       "\n",
       "    \n",
       "\n",
       "\n",
       "    \n",
       "\n",
       "    \n",
       "\n",
       "    \n",
       "\n",
       "    \n",
       "\n",
       "    \n",
       "\n",
       "    \n",
       "\n",
       "\n",
       "    \n",
       "\n",
       "    \n",
       "\n",
       "    \n",
       "\n",
       "    \n",
       "\n",
       "    \n",
       "        <table class=\"eli5-weights eli5-feature-importances\" style=\"border-collapse: collapse; border: none; margin-top: 0em; table-layout: auto;\">\n",
       "    <thead>\n",
       "    <tr style=\"border: none;\">\n",
       "        <th style=\"padding: 0 1em 0 0.5em; text-align: right; border: none;\">Weight</th>\n",
       "        <th style=\"padding: 0 0.5em 0 0.5em; text-align: left; border: none;\">Feature</th>\n",
       "    </tr>\n",
       "    </thead>\n",
       "    <tbody>\n",
       "    \n",
       "        <tr style=\"background-color: hsl(120, 100.00%, 80.00%); border: none;\">\n",
       "            <td style=\"padding: 0 1em 0 0.5em; text-align: right; border: none;\">\n",
       "                0.5264\n",
       "                \n",
       "            </td>\n",
       "            <td style=\"padding: 0 0.5em 0 0.5em; text-align: left; border: none;\">\n",
       "                Sex\n",
       "            </td>\n",
       "        </tr>\n",
       "    \n",
       "        <tr style=\"background-color: hsl(120, 100.00%, 90.58%); border: none;\">\n",
       "            <td style=\"padding: 0 1em 0 0.5em; text-align: right; border: none;\">\n",
       "                0.1795\n",
       "                \n",
       "            </td>\n",
       "            <td style=\"padding: 0 0.5em 0 0.5em; text-align: left; border: none;\">\n",
       "                Pclass\n",
       "            </td>\n",
       "        </tr>\n",
       "    \n",
       "        <tr style=\"background-color: hsl(120, 100.00%, 90.75%); border: none;\">\n",
       "            <td style=\"padding: 0 1em 0 0.5em; text-align: right; border: none;\">\n",
       "                0.1749\n",
       "                \n",
       "            </td>\n",
       "            <td style=\"padding: 0 0.5em 0 0.5em; text-align: left; border: none;\">\n",
       "                Fare\n",
       "            </td>\n",
       "        </tr>\n",
       "    \n",
       "        <tr style=\"background-color: hsl(120, 100.00%, 92.93%); border: none;\">\n",
       "            <td style=\"padding: 0 1em 0 0.5em; text-align: right; border: none;\">\n",
       "                0.1192\n",
       "                \n",
       "            </td>\n",
       "            <td style=\"padding: 0 0.5em 0 0.5em; text-align: left; border: none;\">\n",
       "                Age\n",
       "            </td>\n",
       "        </tr>\n",
       "    \n",
       "    \n",
       "    </tbody>\n",
       "</table>\n",
       "    \n",
       "\n",
       "    \n",
       "\n",
       "\n",
       "    \n",
       "\n",
       "    \n",
       "\n",
       "    \n",
       "\n",
       "    \n",
       "\n",
       "    \n",
       "\n",
       "    \n",
       "        \n",
       "        <br>\n",
       "        <pre>Sex <= 0.500  (65.4%)\n",
       "    Age <= 3.500  (2.2%)\n",
       "        Fare <= 39.344  (1.8%)\n",
       "            Fare <= 27.562  (1.2%)  ---> 1.000\n",
       "            Fare > 27.562  (0.7%)\n",
       "                Fare <= 30.256  (0.2%)  ---> 0.000\n",
       "                Fare > 30.256  (0.5%)  ---> 1.000\n",
       "        Fare > 39.344  (0.3%)  ---> 0.000\n",
       "    Age > 3.500  (63.3%)\n",
       "        Fare <= 52.277  (55.7%)\n",
       "            Age <= 77.000  (55.5%)\n",
       "                Pclass <= 1.500  (7.2%)  ---> 0.233\n",
       "                Pclass > 1.500  (48.3%)  ---> 0.122\n",
       "            Age > 77.000  (0.2%)  ---> 1.000\n",
       "        Fare > 52.277  (7.6%)\n",
       "            Fare <= 59.087  (2.0%)\n",
       "                Age <= 22.000  (0.2%)  ---> 0.000\n",
       "                Age > 22.000  (1.8%)  ---> 0.727\n",
       "            Fare > 59.087  (5.5%)\n",
       "                Fare <= 387.665  (5.2%)  ---> 0.226\n",
       "                Fare > 387.665  (0.3%)  ---> 1.000\n",
       "Sex > 0.500  (34.6%)\n",
       "    Pclass <= 2.500  (18.0%)\n",
       "        Age <= 2.500  (0.3%)\n",
       "            Fare <= 88.775  (0.2%)  ---> 1.000\n",
       "            Fare > 88.775  (0.2%)  ---> 0.000\n",
       "        Age > 2.500  (17.6%)\n",
       "            Age <= 24.500  (5.7%)  ---> 1.000\n",
       "            Age > 24.500  (11.9%)\n",
       "                Age <= 26.000  (0.2%)  ---> 0.000\n",
       "                Age > 26.000  (11.7%)  ---> 0.971\n",
       "    Pclass > 2.500  (16.6%)\n",
       "        Fare <= 23.350  (13.6%)\n",
       "            Age <= 36.500  (12.9%)\n",
       "                Fare <= 14.852  (8.9%)  ---> 0.509\n",
       "                Fare > 14.852  (4.0%)  ---> 0.750\n",
       "            Age > 36.500  (0.7%)  ---> 0.000\n",
       "        Fare > 23.350  (3.0%)\n",
       "            Age <= 7.000  (0.5%)\n",
       "                Fare <= 31.331  (0.3%)  ---> 0.000\n",
       "                Fare > 31.331  (0.2%)  ---> 1.000\n",
       "            Age > 7.000  (2.5%)  ---> 0.000</pre>\n",
       "    \n",
       "\n",
       "\n",
       "\n"
      ],
      "text/plain": [
       "Explanation(estimator='DecisionTreeClassifier(max_depth=5, random_state=21)', description='\\nDecision tree feature importances; values are numbers 0 <= x <= 1;\\nall values sum to 1.\\n', error=None, method='decision tree', is_regression=False, targets=None, feature_importances=FeatureImportances(importances=[FeatureWeight(feature='Sex', weight=0.5264331520456752, std=None, value=None), FeatureWeight(feature='Pclass', weight=0.17952350256153154, std=None, value=None), FeatureWeight(feature='Fare', weight=0.17489242205608213, std=None, value=None), FeatureWeight(feature='Age', weight=0.11915092333671108, std=None, value=None)], remaining=0), decision_tree=TreeInfo(criterion='gini', tree=NodeInfo(id=0, is_leaf=False, value=[374.0, 222.0], value_ratio=[0.62751677852349, 0.3724832214765101], impurity=0.46747894238998244, samples=596, sample_ratio=1.0, feature_name='Sex', feature_id=1, threshold=0.5, left=NodeInfo(id=1, is_leaf=False, value=[317.0, 73.0], value_ratio=[0.8128205128205128, 0.18717948717948718], impurity=0.3042866535174228, samples=390, sample_ratio=0.6543624161073825, feature_name='Age', feature_id=2, threshold=3.5, left=NodeInfo(id=2, is_leaf=False, value=[3.0, 10.0], value_ratio=[0.23076923076923078, 0.7692307692307693], impurity=0.3550295857988166, samples=13, sample_ratio=0.02181208053691275, feature_name='Fare', feature_id=3, threshold=39.34375, left=NodeInfo(id=3, is_leaf=False, value=[1.0, 10.0], value_ratio=[0.09090909090909091, 0.9090909090909091], impurity=0.1652892561983471, samples=11, sample_ratio=0.018456375838926176, feature_name='Fare', feature_id=3, threshold=27.5625, left=NodeInfo(id=4, is_leaf=True, value=[0.0, 7.0], value_ratio=[0.0, 1.0], impurity=0.0, samples=7, sample_ratio=0.01174496644295302, feature_name=None, feature_id=None, threshold=None, left=None, right=None), right=NodeInfo(id=5, is_leaf=False, value=[1.0, 3.0], value_ratio=[0.25, 0.75], impurity=0.375, samples=4, sample_ratio=0.006711409395973154, feature_name='Fare', feature_id=3, threshold=30.256250381469727, left=NodeInfo(id=6, is_leaf=True, value=[1.0, 0.0], value_ratio=[1.0, 0.0], impurity=0.0, samples=1, sample_ratio=0.0016778523489932886, feature_name=None, feature_id=None, threshold=None, left=None, right=None), right=NodeInfo(id=7, is_leaf=True, value=[0.0, 3.0], value_ratio=[0.0, 1.0], impurity=0.0, samples=3, sample_ratio=0.0050335570469798654, feature_name=None, feature_id=None, threshold=None, left=None, right=None))), right=NodeInfo(id=8, is_leaf=True, value=[2.0, 0.0], value_ratio=[1.0, 0.0], impurity=0.0, samples=2, sample_ratio=0.003355704697986577, feature_name=None, feature_id=None, threshold=None, left=None, right=None)), right=NodeInfo(id=9, is_leaf=False, value=[314.0, 63.0], value_ratio=[0.8328912466843501, 0.16710875331564987], impurity=0.27836683576187826, samples=377, sample_ratio=0.6325503355704698, feature_name='Fare', feature_id=3, threshold=52.277099609375, left=NodeInfo(id=10, is_leaf=False, value=[286.0, 46.0], value_ratio=[0.8614457831325302, 0.13855421686746988], impurity=0.238713891711424, samples=332, sample_ratio=0.5570469798657718, feature_name='Age', feature_id=2, threshold=77.0, left=NodeInfo(id=11, is_leaf=False, value=[286.0, 45.0], value_ratio=[0.8640483383685801, 0.13595166163141995], impurity=0.23493761466215168, samples=331, sample_ratio=0.5553691275167785, feature_name='Pclass', feature_id=0, threshold=1.5, left=NodeInfo(id=12, is_leaf=True, value=[33.0, 10.0], value_ratio=[0.7674418604651163, 0.23255813953488372], impurity=0.3569497025419145, samples=43, sample_ratio=0.07214765100671142, feature_name=None, feature_id=None, threshold=None, left=None, right=None), right=NodeInfo(id=13, is_leaf=True, value=[253.0, 35.0], value_ratio=[0.8784722222222222, 0.12152777777777778], impurity=0.21351755401234573, samples=288, sample_ratio=0.48322147651006714, feature_name=None, feature_id=None, threshold=None, left=None, right=None)), right=NodeInfo(id=14, is_leaf=True, value=[0.0, 1.0], value_ratio=[0.0, 1.0], impurity=0.0, samples=1, sample_ratio=0.0016778523489932886, feature_name=None, feature_id=None, threshold=None, left=None, right=None)), right=NodeInfo(id=15, is_leaf=False, value=[28.0, 17.0], value_ratio=[0.6222222222222222, 0.37777777777777777], impurity=0.47012345679012346, samples=45, sample_ratio=0.07550335570469799, feature_name='Fare', feature_id=3, threshold=59.08749961853027, left=NodeInfo(id=16, is_leaf=False, value=[4.0, 8.0], value_ratio=[0.3333333333333333, 0.6666666666666666], impurity=0.4444444444444444, samples=12, sample_ratio=0.020134228187919462, feature_name='Age', feature_id=2, threshold=22.0, left=NodeInfo(id=17, is_leaf=True, value=[1.0, 0.0], value_ratio=[1.0, 0.0], impurity=0.0, samples=1, sample_ratio=0.0016778523489932886, feature_name=None, feature_id=None, threshold=None, left=None, right=None), right=NodeInfo(id=18, is_leaf=True, value=[3.0, 8.0], value_ratio=[0.2727272727272727, 0.7272727272727273], impurity=0.39669421487603307, samples=11, sample_ratio=0.018456375838926176, feature_name=None, feature_id=None, threshold=None, left=None, right=None)), right=NodeInfo(id=19, is_leaf=False, value=[24.0, 9.0], value_ratio=[0.7272727272727273, 0.2727272727272727], impurity=0.39669421487603307, samples=33, sample_ratio=0.05536912751677853, feature_name='Fare', feature_id=3, threshold=387.66461181640625, left=NodeInfo(id=20, is_leaf=True, value=[24.0, 7.0], value_ratio=[0.7741935483870968, 0.22580645161290322], impurity=0.34963579604578565, samples=31, sample_ratio=0.05201342281879195, feature_name=None, feature_id=None, threshold=None, left=None, right=None), right=NodeInfo(id=21, is_leaf=True, value=[0.0, 2.0], value_ratio=[0.0, 1.0], impurity=0.0, samples=2, sample_ratio=0.003355704697986577, feature_name=None, feature_id=None, threshold=None, left=None, right=None))))), right=NodeInfo(id=22, is_leaf=False, value=[57.0, 149.0], value_ratio=[0.2766990291262136, 0.7233009708737864], impurity=0.40027335281364884, samples=206, sample_ratio=0.34563758389261745, feature_name='Pclass', feature_id=0, threshold=2.5, left=NodeInfo(id=23, is_leaf=False, value=[4.0, 103.0], value_ratio=[0.037383177570093455, 0.9626168224299065], impurity=0.07197135120971265, samples=107, sample_ratio=0.17953020134228187, feature_name='Age', feature_id=2, threshold=2.5, left=NodeInfo(id=24, is_leaf=False, value=[1.0, 1.0], value_ratio=[0.5, 0.5], impurity=0.5, samples=2, sample_ratio=0.003355704697986577, feature_name='Fare', feature_id=3, threshold=88.7750015258789, left=NodeInfo(id=25, is_leaf=True, value=[0.0, 1.0], value_ratio=[0.0, 1.0], impurity=0.0, samples=1, sample_ratio=0.0016778523489932886, feature_name=None, feature_id=None, threshold=None, left=None, right=None), right=NodeInfo(id=26, is_leaf=True, value=[1.0, 0.0], value_ratio=[1.0, 0.0], impurity=0.0, samples=1, sample_ratio=0.0016778523489932886, feature_name=None, feature_id=None, threshold=None, left=None, right=None)), right=NodeInfo(id=27, is_leaf=False, value=[3.0, 102.0], value_ratio=[0.02857142857142857, 0.9714285714285714], impurity=0.05551020408163265, samples=105, sample_ratio=0.1761744966442953, feature_name='Age', feature_id=2, threshold=24.5, left=NodeInfo(id=28, is_leaf=True, value=[0.0, 34.0], value_ratio=[0.0, 1.0], impurity=0.0, samples=34, sample_ratio=0.05704697986577181, feature_name=None, feature_id=None, threshold=None, left=None, right=None), right=NodeInfo(id=29, is_leaf=False, value=[3.0, 68.0], value_ratio=[0.04225352112676056, 0.9577464788732394], impurity=0.08093632215830193, samples=71, sample_ratio=0.11912751677852348, feature_name='Age', feature_id=2, threshold=26.0, left=NodeInfo(id=30, is_leaf=True, value=[1.0, 0.0], value_ratio=[1.0, 0.0], impurity=0.0, samples=1, sample_ratio=0.0016778523489932886, feature_name=None, feature_id=None, threshold=None, left=None, right=None), right=NodeInfo(id=31, is_leaf=True, value=[2.0, 68.0], value_ratio=[0.02857142857142857, 0.9714285714285714], impurity=0.05551020408163265, samples=70, sample_ratio=0.1174496644295302, feature_name=None, feature_id=None, threshold=None, left=None, right=None)))), right=NodeInfo(id=32, is_leaf=False, value=[53.0, 46.0], value_ratio=[0.5353535353535354, 0.46464646464646464], impurity=0.4975002550760127, samples=99, sample_ratio=0.16610738255033558, feature_name='Fare', feature_id=3, threshold=23.350000381469727, left=NodeInfo(id=33, is_leaf=False, value=[36.0, 45.0], value_ratio=[0.4444444444444444, 0.5555555555555556], impurity=0.49382716049382713, samples=81, sample_ratio=0.13590604026845637, feature_name='Age', feature_id=2, threshold=36.5, left=NodeInfo(id=34, is_leaf=False, value=[32.0, 45.0], value_ratio=[0.4155844155844156, 0.5844155844155844], impurity=0.4857480182155507, samples=77, sample_ratio=0.12919463087248323, feature_name='Fare', feature_id=3, threshold=14.852049827575684, left=NodeInfo(id=35, is_leaf=True, value=[26.0, 27.0], value_ratio=[0.49056603773584906, 0.5094339622641509], impurity=0.4998220007119971, samples=53, sample_ratio=0.08892617449664429, feature_name=None, feature_id=None, threshold=None, left=None, right=None), right=NodeInfo(id=36, is_leaf=True, value=[6.0, 18.0], value_ratio=[0.25, 0.75], impurity=0.375, samples=24, sample_ratio=0.040268456375838924, feature_name=None, feature_id=None, threshold=None, left=None, right=None)), right=NodeInfo(id=37, is_leaf=True, value=[4.0, 0.0], value_ratio=[1.0, 0.0], impurity=0.0, samples=4, sample_ratio=0.006711409395973154, feature_name=None, feature_id=None, threshold=None, left=None, right=None)), right=NodeInfo(id=38, is_leaf=False, value=[17.0, 1.0], value_ratio=[0.9444444444444444, 0.05555555555555555], impurity=0.1049382716049383, samples=18, sample_ratio=0.030201342281879196, feature_name='Age', feature_id=2, threshold=7.0, left=NodeInfo(id=39, is_leaf=False, value=[2.0, 1.0], value_ratio=[0.6666666666666666, 0.3333333333333333], impurity=0.4444444444444444, samples=3, sample_ratio=0.0050335570469798654, feature_name='Fare', feature_id=3, threshold=31.331250190734863, left=NodeInfo(id=40, is_leaf=True, value=[2.0, 0.0], value_ratio=[1.0, 0.0], impurity=0.0, samples=2, sample_ratio=0.003355704697986577, feature_name=None, feature_id=None, threshold=None, left=None, right=None), right=NodeInfo(id=41, is_leaf=True, value=[0.0, 1.0], value_ratio=[0.0, 1.0], impurity=0.0, samples=1, sample_ratio=0.0016778523489932886, feature_name=None, feature_id=None, threshold=None, left=None, right=None)), right=NodeInfo(id=42, is_leaf=True, value=[15.0, 0.0], value_ratio=[1.0, 0.0], impurity=0.0, samples=15, sample_ratio=0.025167785234899327, feature_name=None, feature_id=None, threshold=None, left=None, right=None))))), graphviz='digraph Tree {\\nnode [shape=box, fontname=\"helvetica\"] ;\\nedge [fontname=\"helvetica\"] ;\\n0 [label=\"Sex <= 0.5\\\\ngini = 0.467\\\\nsamples = 100.0%\\\\nvalue = [0.628, 0.372]\"] ;\\n1 [label=\"Age <= 3.5\\\\ngini = 0.304\\\\nsamples = 65.4%\\\\nvalue = [0.813, 0.187]\"] ;\\n0 -> 1 [labeldistance=2.5, labelangle=45, headlabel=\"True\"] ;\\n2 [label=\"Fare <= 39.344\\\\ngini = 0.355\\\\nsamples = 2.2%\\\\nvalue = [0.231, 0.769]\"] ;\\n1 -> 2 ;\\n3 [label=\"Fare <= 27.562\\\\ngini = 0.165\\\\nsamples = 1.8%\\\\nvalue = [0.091, 0.909]\"] ;\\n2 -> 3 ;\\n4 [label=\"gini = 0.0\\\\nsamples = 1.2%\\\\nvalue = [0.0, 1.0]\"] ;\\n3 -> 4 ;\\n5 [label=\"Fare <= 30.256\\\\ngini = 0.375\\\\nsamples = 0.7%\\\\nvalue = [0.25, 0.75]\"] ;\\n3 -> 5 ;\\n6 [label=\"gini = 0.0\\\\nsamples = 0.2%\\\\nvalue = [1.0, 0.0]\"] ;\\n5 -> 6 ;\\n7 [label=\"gini = 0.0\\\\nsamples = 0.5%\\\\nvalue = [0.0, 1.0]\"] ;\\n5 -> 7 ;\\n8 [label=\"gini = 0.0\\\\nsamples = 0.3%\\\\nvalue = [1.0, 0.0]\"] ;\\n2 -> 8 ;\\n9 [label=\"Fare <= 52.277\\\\ngini = 0.278\\\\nsamples = 63.3%\\\\nvalue = [0.833, 0.167]\"] ;\\n1 -> 9 ;\\n10 [label=\"Age <= 77.0\\\\ngini = 0.239\\\\nsamples = 55.7%\\\\nvalue = [0.861, 0.139]\"] ;\\n9 -> 10 ;\\n11 [label=\"Pclass <= 1.5\\\\ngini = 0.235\\\\nsamples = 55.5%\\\\nvalue = [0.864, 0.136]\"] ;\\n10 -> 11 ;\\n12 [label=\"gini = 0.357\\\\nsamples = 7.2%\\\\nvalue = [0.767, 0.233]\"] ;\\n11 -> 12 ;\\n13 [label=\"gini = 0.214\\\\nsamples = 48.3%\\\\nvalue = [0.878, 0.122]\"] ;\\n11 -> 13 ;\\n14 [label=\"gini = 0.0\\\\nsamples = 0.2%\\\\nvalue = [0.0, 1.0]\"] ;\\n10 -> 14 ;\\n15 [label=\"Fare <= 59.087\\\\ngini = 0.47\\\\nsamples = 7.6%\\\\nvalue = [0.622, 0.378]\"] ;\\n9 -> 15 ;\\n16 [label=\"Age <= 22.0\\\\ngini = 0.444\\\\nsamples = 2.0%\\\\nvalue = [0.333, 0.667]\"] ;\\n15 -> 16 ;\\n17 [label=\"gini = 0.0\\\\nsamples = 0.2%\\\\nvalue = [1.0, 0.0]\"] ;\\n16 -> 17 ;\\n18 [label=\"gini = 0.397\\\\nsamples = 1.8%\\\\nvalue = [0.273, 0.727]\"] ;\\n16 -> 18 ;\\n19 [label=\"Fare <= 387.665\\\\ngini = 0.397\\\\nsamples = 5.5%\\\\nvalue = [0.727, 0.273]\"] ;\\n15 -> 19 ;\\n20 [label=\"gini = 0.35\\\\nsamples = 5.2%\\\\nvalue = [0.774, 0.226]\"] ;\\n19 -> 20 ;\\n21 [label=\"gini = 0.0\\\\nsamples = 0.3%\\\\nvalue = [0.0, 1.0]\"] ;\\n19 -> 21 ;\\n22 [label=\"Pclass <= 2.5\\\\ngini = 0.4\\\\nsamples = 34.6%\\\\nvalue = [0.277, 0.723]\"] ;\\n0 -> 22 [labeldistance=2.5, labelangle=-45, headlabel=\"False\"] ;\\n23 [label=\"Age <= 2.5\\\\ngini = 0.072\\\\nsamples = 18.0%\\\\nvalue = [0.037, 0.963]\"] ;\\n22 -> 23 ;\\n24 [label=\"Fare <= 88.775\\\\ngini = 0.5\\\\nsamples = 0.3%\\\\nvalue = [0.5, 0.5]\"] ;\\n23 -> 24 ;\\n25 [label=\"gini = 0.0\\\\nsamples = 0.2%\\\\nvalue = [0.0, 1.0]\"] ;\\n24 -> 25 ;\\n26 [label=\"gini = 0.0\\\\nsamples = 0.2%\\\\nvalue = [1.0, 0.0]\"] ;\\n24 -> 26 ;\\n27 [label=\"Age <= 24.5\\\\ngini = 0.056\\\\nsamples = 17.6%\\\\nvalue = [0.029, 0.971]\"] ;\\n23 -> 27 ;\\n28 [label=\"gini = 0.0\\\\nsamples = 5.7%\\\\nvalue = [0.0, 1.0]\"] ;\\n27 -> 28 ;\\n29 [label=\"Age <= 26.0\\\\ngini = 0.081\\\\nsamples = 11.9%\\\\nvalue = [0.042, 0.958]\"] ;\\n27 -> 29 ;\\n30 [label=\"gini = 0.0\\\\nsamples = 0.2%\\\\nvalue = [1.0, 0.0]\"] ;\\n29 -> 30 ;\\n31 [label=\"gini = 0.056\\\\nsamples = 11.7%\\\\nvalue = [0.029, 0.971]\"] ;\\n29 -> 31 ;\\n32 [label=\"Fare <= 23.35\\\\ngini = 0.498\\\\nsamples = 16.6%\\\\nvalue = [0.535, 0.465]\"] ;\\n22 -> 32 ;\\n33 [label=\"Age <= 36.5\\\\ngini = 0.494\\\\nsamples = 13.6%\\\\nvalue = [0.444, 0.556]\"] ;\\n32 -> 33 ;\\n34 [label=\"Fare <= 14.852\\\\ngini = 0.486\\\\nsamples = 12.9%\\\\nvalue = [0.416, 0.584]\"] ;\\n33 -> 34 ;\\n35 [label=\"gini = 0.5\\\\nsamples = 8.9%\\\\nvalue = [0.491, 0.509]\"] ;\\n34 -> 35 ;\\n36 [label=\"gini = 0.375\\\\nsamples = 4.0%\\\\nvalue = [0.25, 0.75]\"] ;\\n34 -> 36 ;\\n37 [label=\"gini = 0.0\\\\nsamples = 0.7%\\\\nvalue = [1.0, 0.0]\"] ;\\n33 -> 37 ;\\n38 [label=\"Age <= 7.0\\\\ngini = 0.105\\\\nsamples = 3.0%\\\\nvalue = [0.944, 0.056]\"] ;\\n32 -> 38 ;\\n39 [label=\"Fare <= 31.331\\\\ngini = 0.444\\\\nsamples = 0.5%\\\\nvalue = [0.667, 0.333]\"] ;\\n38 -> 39 ;\\n40 [label=\"gini = 0.0\\\\nsamples = 0.3%\\\\nvalue = [1.0, 0.0]\"] ;\\n39 -> 40 ;\\n41 [label=\"gini = 0.0\\\\nsamples = 0.2%\\\\nvalue = [0.0, 1.0]\"] ;\\n39 -> 41 ;\\n42 [label=\"gini = 0.0\\\\nsamples = 2.5%\\\\nvalue = [1.0, 0.0]\"] ;\\n38 -> 42 ;\\n}', is_classification=True), highlight_spaces=None, transition_features=None, image=None)"
      ]
     },
     "execution_count": 39,
     "metadata": {},
     "output_type": "execute_result"
    }
   ],
   "source": [
    "eli5.explain_weights_sklearn(clf, feature_names=X_train.columns.values)\n",
    "#проверка на то что имеет больший вес в датасете с большего к меньньшему"
   ]
  },
  {
   "cell_type": "markdown",
   "id": "9e2c0898",
   "metadata": {},
   "source": [
    "# Загружаем модель Support Vector Machine"
   ]
  },
  {
   "cell_type": "code",
   "execution_count": 27,
   "id": "74b87d0f",
   "metadata": {},
   "outputs": [],
   "source": [
    "predmodel = svm.LinearSVC()"
   ]
  },
  {
   "cell_type": "code",
   "execution_count": 28,
   "id": "c5dc50b4",
   "metadata": {},
   "outputs": [
    {
     "name": "stderr",
     "output_type": "stream",
     "text": [
      "/Users/vladimirsemenov/anaconda3/lib/python3.10/site-packages/sklearn/utils/validation.py:1143: DataConversionWarning: A column-vector y was passed when a 1d array was expected. Please change the shape of y to (n_samples, ), for example using ravel().\n",
      "  y = column_or_1d(y, warn=True)\n",
      "/Users/vladimirsemenov/anaconda3/lib/python3.10/site-packages/sklearn/svm/_base.py:1244: ConvergenceWarning: Liblinear failed to converge, increase the number of iterations.\n",
      "  warnings.warn(\n"
     ]
    },
    {
     "data": {
      "text/html": [
       "<style>#sk-container-id-3 {color: black;background-color: white;}#sk-container-id-3 pre{padding: 0;}#sk-container-id-3 div.sk-toggleable {background-color: white;}#sk-container-id-3 label.sk-toggleable__label {cursor: pointer;display: block;width: 100%;margin-bottom: 0;padding: 0.3em;box-sizing: border-box;text-align: center;}#sk-container-id-3 label.sk-toggleable__label-arrow:before {content: \"▸\";float: left;margin-right: 0.25em;color: #696969;}#sk-container-id-3 label.sk-toggleable__label-arrow:hover:before {color: black;}#sk-container-id-3 div.sk-estimator:hover label.sk-toggleable__label-arrow:before {color: black;}#sk-container-id-3 div.sk-toggleable__content {max-height: 0;max-width: 0;overflow: hidden;text-align: left;background-color: #f0f8ff;}#sk-container-id-3 div.sk-toggleable__content pre {margin: 0.2em;color: black;border-radius: 0.25em;background-color: #f0f8ff;}#sk-container-id-3 input.sk-toggleable__control:checked~div.sk-toggleable__content {max-height: 200px;max-width: 100%;overflow: auto;}#sk-container-id-3 input.sk-toggleable__control:checked~label.sk-toggleable__label-arrow:before {content: \"▾\";}#sk-container-id-3 div.sk-estimator input.sk-toggleable__control:checked~label.sk-toggleable__label {background-color: #d4ebff;}#sk-container-id-3 div.sk-label input.sk-toggleable__control:checked~label.sk-toggleable__label {background-color: #d4ebff;}#sk-container-id-3 input.sk-hidden--visually {border: 0;clip: rect(1px 1px 1px 1px);clip: rect(1px, 1px, 1px, 1px);height: 1px;margin: -1px;overflow: hidden;padding: 0;position: absolute;width: 1px;}#sk-container-id-3 div.sk-estimator {font-family: monospace;background-color: #f0f8ff;border: 1px dotted black;border-radius: 0.25em;box-sizing: border-box;margin-bottom: 0.5em;}#sk-container-id-3 div.sk-estimator:hover {background-color: #d4ebff;}#sk-container-id-3 div.sk-parallel-item::after {content: \"\";width: 100%;border-bottom: 1px solid gray;flex-grow: 1;}#sk-container-id-3 div.sk-label:hover label.sk-toggleable__label {background-color: #d4ebff;}#sk-container-id-3 div.sk-serial::before {content: \"\";position: absolute;border-left: 1px solid gray;box-sizing: border-box;top: 0;bottom: 0;left: 50%;z-index: 0;}#sk-container-id-3 div.sk-serial {display: flex;flex-direction: column;align-items: center;background-color: white;padding-right: 0.2em;padding-left: 0.2em;position: relative;}#sk-container-id-3 div.sk-item {position: relative;z-index: 1;}#sk-container-id-3 div.sk-parallel {display: flex;align-items: stretch;justify-content: center;background-color: white;position: relative;}#sk-container-id-3 div.sk-item::before, #sk-container-id-3 div.sk-parallel-item::before {content: \"\";position: absolute;border-left: 1px solid gray;box-sizing: border-box;top: 0;bottom: 0;left: 50%;z-index: -1;}#sk-container-id-3 div.sk-parallel-item {display: flex;flex-direction: column;z-index: 1;position: relative;background-color: white;}#sk-container-id-3 div.sk-parallel-item:first-child::after {align-self: flex-end;width: 50%;}#sk-container-id-3 div.sk-parallel-item:last-child::after {align-self: flex-start;width: 50%;}#sk-container-id-3 div.sk-parallel-item:only-child::after {width: 0;}#sk-container-id-3 div.sk-dashed-wrapped {border: 1px dashed gray;margin: 0 0.4em 0.5em 0.4em;box-sizing: border-box;padding-bottom: 0.4em;background-color: white;}#sk-container-id-3 div.sk-label label {font-family: monospace;font-weight: bold;display: inline-block;line-height: 1.2em;}#sk-container-id-3 div.sk-label-container {text-align: center;}#sk-container-id-3 div.sk-container {/* jupyter's `normalize.less` sets `[hidden] { display: none; }` but bootstrap.min.css set `[hidden] { display: none !important; }` so we also need the `!important` here to be able to override the default hidden behavior on the sphinx rendered scikit-learn.org. See: https://github.com/scikit-learn/scikit-learn/issues/21755 */display: inline-block !important;position: relative;}#sk-container-id-3 div.sk-text-repr-fallback {display: none;}</style><div id=\"sk-container-id-3\" class=\"sk-top-container\"><div class=\"sk-text-repr-fallback\"><pre>LinearSVC()</pre><b>In a Jupyter environment, please rerun this cell to show the HTML representation or trust the notebook. <br />On GitHub, the HTML representation is unable to render, please try loading this page with nbviewer.org.</b></div><div class=\"sk-container\" hidden><div class=\"sk-item\"><div class=\"sk-estimator sk-toggleable\"><input class=\"sk-toggleable__control sk-hidden--visually\" id=\"sk-estimator-id-3\" type=\"checkbox\" checked><label for=\"sk-estimator-id-3\" class=\"sk-toggleable__label sk-toggleable__label-arrow\">LinearSVC</label><div class=\"sk-toggleable__content\"><pre>LinearSVC()</pre></div></div></div></div></div>"
      ],
      "text/plain": [
       "LinearSVC()"
      ]
     },
     "execution_count": 28,
     "metadata": {},
     "output_type": "execute_result"
    }
   ],
   "source": [
    "predmodel.fit(X_train,Y_train)"
   ]
  },
  {
   "cell_type": "code",
   "execution_count": 29,
   "id": "fb714903",
   "metadata": {},
   "outputs": [
    {
     "data": {
      "text/plain": [
       "array([0, 0, 0, 1, 1, 1, 1, 0, 1, 1])"
      ]
     },
     "execution_count": 29,
     "metadata": {},
     "output_type": "execute_result"
    }
   ],
   "source": [
    "#Предсказываем на тестовой выборке\n",
    "predmodel.predict(X_test[0:10])"
   ]
  },
  {
   "cell_type": "code",
   "execution_count": 30,
   "id": "0eb8e924",
   "metadata": {},
   "outputs": [
    {
     "data": {
      "text/plain": [
       "0.8169491525423729"
      ]
     },
     "execution_count": 30,
     "metadata": {},
     "output_type": "execute_result"
    }
   ],
   "source": [
    "#Проверяем точность предсказаний \n",
    "predmodel.score(X_test,Y_test)"
   ]
  },
  {
   "cell_type": "code",
   "execution_count": null,
   "id": "85ecc7a1",
   "metadata": {},
   "outputs": [],
   "source": []
  },
  {
   "cell_type": "code",
   "execution_count": null,
   "id": "d0adaca7",
   "metadata": {},
   "outputs": [],
   "source": []
  },
  {
   "cell_type": "code",
   "execution_count": null,
   "id": "571df839",
   "metadata": {},
   "outputs": [],
   "source": []
  },
  {
   "cell_type": "code",
   "execution_count": null,
   "id": "84939af1",
   "metadata": {},
   "outputs": [],
   "source": []
  }
 ],
 "metadata": {
  "kernelspec": {
   "display_name": "Python 3 (ipykernel)",
   "language": "python",
   "name": "python3"
  },
  "language_info": {
   "codemirror_mode": {
    "name": "ipython",
    "version": 3
   },
   "file_extension": ".py",
   "mimetype": "text/x-python",
   "name": "python",
   "nbconvert_exporter": "python",
   "pygments_lexer": "ipython3",
   "version": "3.10.9"
  }
 },
 "nbformat": 4,
 "nbformat_minor": 5
}
